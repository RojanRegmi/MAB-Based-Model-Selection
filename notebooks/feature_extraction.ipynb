{
 "cells": [
  {
   "cell_type": "code",
   "execution_count": 2,
   "metadata": {},
   "outputs": [],
   "source": [
    "import tsfel\n",
    "\n",
    "import os\n",
    "from collections import defaultdict\n",
    "\n",
    "import numpy as np\n",
    "import pandas as pd\n",
    "import matplotlib.pyplot as plt \n",
    "import seaborn as sns\n",
    "\n",
    "import sys"
   ]
  },
  {
   "cell_type": "code",
   "execution_count": 3,
   "metadata": {},
   "outputs": [],
   "source": [
    "sys.path.append('..')"
   ]
  },
  {
   "cell_type": "markdown",
   "metadata": {},
   "source": [
    "### Reading the Datasets\n",
    "\n",
    " The data have to be read from a datasets directory. When there are multiple dataset files, they are appended in a list."
   ]
  },
  {
   "cell_type": "code",
   "execution_count": 4,
   "metadata": {},
   "outputs": [],
   "source": [
    "current_dir = os.getcwd()\n",
    "parent_dir = os.path.abspath(os.path.join(current_dir, os.pardir))\n",
    "\n",
    "dataset_name='Dodgers'"
   ]
  },
  {
   "cell_type": "code",
   "execution_count": 5,
   "metadata": {},
   "outputs": [
    {
     "name": "stdout",
     "output_type": "stream",
     "text": [
      "[]\n"
     ]
    },
    {
     "ename": "IndexError",
     "evalue": "list index out of range",
     "output_type": "error",
     "traceback": [
      "\u001b[1;31m---------------------------------------------------------------------------\u001b[0m",
      "\u001b[1;31mIndexError\u001b[0m                                Traceback (most recent call last)",
      "Cell \u001b[1;32mIn[5], line 5\u001b[0m\n\u001b[0;32m      2\u001b[0m walker \u001b[38;5;241m=\u001b[39m \u001b[38;5;28mlist\u001b[39m(os\u001b[38;5;241m.\u001b[39mwalk(\u001b[38;5;124m'\u001b[39m\u001b[38;5;124m../datasets\u001b[39m\u001b[38;5;124m'\u001b[39m))\n\u001b[0;32m      3\u001b[0m \u001b[38;5;28mprint\u001b[39m(walker)\n\u001b[1;32m----> 5\u001b[0m index \u001b[38;5;241m=\u001b[39m \u001b[43mwalker\u001b[49m\u001b[43m[\u001b[49m\u001b[38;5;241;43m0\u001b[39;49m\u001b[43m]\u001b[49m[\u001b[38;5;241m1\u001b[39m]\n\u001b[0;32m      7\u001b[0m \u001b[38;5;28;01mfor\u001b[39;00m i \u001b[38;5;129;01min\u001b[39;00m \u001b[38;5;28mrange\u001b[39m(\u001b[38;5;241m1\u001b[39m,\u001b[38;5;28mlen\u001b[39m(walker)):\n\u001b[0;32m      8\u001b[0m     dataset_indexer[index[i\u001b[38;5;241m-\u001b[39m\u001b[38;5;241m1\u001b[39m]] \u001b[38;5;241m=\u001b[39m walker[i][\u001b[38;5;241m-\u001b[39m\u001b[38;5;241m1\u001b[39m]\n",
      "\u001b[1;31mIndexError\u001b[0m: list index out of range"
     ]
    }
   ],
   "source": [
    "\n",
    "dataset_indexer = defaultdict()\n",
    "walker = list(os.walk('../datasets'))\n",
    "print(walker)\n",
    "        \n",
    "index = walker[0][1]\n",
    "\n",
    "for i in range(1,len(walker)):\n",
    "    dataset_indexer[index[i-1]] = walker[i][-1]"
   ]
  },
  {
   "cell_type": "code",
   "execution_count": null,
   "metadata": {},
   "outputs": [],
   "source": [
    "filenames = dataset_indexer[dataset_name]\n",
    "dataset_dir = os.path.join(parent_dir, 'datasets', dataset_name)\n",
    "\n",
    "dataset_list = []\n",
    "\n",
    "for file in filenames:\n",
    "    \n",
    "    filepath = os.path.join(dataset_dir, file)\n",
    "    \n",
    "    df = pd.read_csv(filepath)\n",
    "    \n",
    "    dataset_list.append(df)"
   ]
  },
  {
   "cell_type": "code",
   "execution_count": null,
   "metadata": {},
   "outputs": [],
   "source": [
    "cfg_file = tsfel.get_features_by_domain(None)"
   ]
  },
  {
   "cell_type": "code",
   "execution_count": 6,
   "metadata": {},
   "outputs": [],
   "source": [
    "import sys\n",
    "\n",
    "sys.path.append('..')\n",
    "\n",
    "from src.Components.feature_extractor import FeatureExtractor"
   ]
  },
  {
   "cell_type": "code",
   "execution_count": 7,
   "metadata": {},
   "outputs": [
    {
     "ename": "IndexError",
     "evalue": "list index out of range",
     "output_type": "error",
     "traceback": [
      "\u001b[1;31m---------------------------------------------------------------------------\u001b[0m",
      "\u001b[1;31mIndexError\u001b[0m                                Traceback (most recent call last)",
      "Cell \u001b[1;32mIn[7], line 1\u001b[0m\n\u001b[1;32m----> 1\u001b[0m dodgers_features \u001b[38;5;241m=\u001b[39m \u001b[43mFeatureExtractor\u001b[49m\u001b[43m(\u001b[49m\u001b[43m)\u001b[49m\n",
      "File \u001b[1;32mc:\\Users\\sharmapoudel\\Documents\\MAB-Model-Selection\\MAB-Based-Model-Selection\\src\\Components\\feature_extractor.py:14\u001b[0m, in \u001b[0;36mFeatureExtractor.__init__\u001b[1;34m(self, fs)\u001b[0m\n\u001b[0;32m     12\u001b[0m \u001b[38;5;28;01mdef\u001b[39;00m \u001b[38;5;21m__init__\u001b[39m(\u001b[38;5;28mself\u001b[39m, fs\u001b[38;5;241m=\u001b[39m\u001b[38;5;241m100\u001b[39m):\n\u001b[1;32m---> 14\u001b[0m     \u001b[38;5;28mself\u001b[39m\u001b[38;5;241m.\u001b[39mdataset_indexer \u001b[38;5;241m=\u001b[39m \u001b[38;5;28;43mself\u001b[39;49m\u001b[38;5;241;43m.\u001b[39;49m\u001b[43mget_dataset_dictionary\u001b[49m\u001b[43m(\u001b[49m\u001b[43m)\u001b[49m\n\u001b[0;32m     15\u001b[0m     \u001b[38;5;28mself\u001b[39m\u001b[38;5;241m.\u001b[39mparent_dir \u001b[38;5;241m=\u001b[39m os\u001b[38;5;241m.\u001b[39mpath\u001b[38;5;241m.\u001b[39mabspath(os\u001b[38;5;241m.\u001b[39mpath\u001b[38;5;241m.\u001b[39mjoin(os\u001b[38;5;241m.\u001b[39mgetcwd(), os\u001b[38;5;241m.\u001b[39mpardir))\n\u001b[0;32m     16\u001b[0m     \u001b[38;5;28mself\u001b[39m\u001b[38;5;241m.\u001b[39mfs \u001b[38;5;241m=\u001b[39m fs\n",
      "File \u001b[1;32mc:\\Users\\sharmapoudel\\Documents\\MAB-Model-Selection\\MAB-Based-Model-Selection\\src\\Components\\feature_extractor.py:27\u001b[0m, in \u001b[0;36mFeatureExtractor.get_dataset_dictionary\u001b[1;34m(self)\u001b[0m\n\u001b[0;32m     24\u001b[0m dataset_indexer \u001b[38;5;241m=\u001b[39m defaultdict()\n\u001b[0;32m     25\u001b[0m walker \u001b[38;5;241m=\u001b[39m \u001b[38;5;28mlist\u001b[39m(os\u001b[38;5;241m.\u001b[39mwalk(\u001b[38;5;124m'\u001b[39m\u001b[38;5;124m../datasets\u001b[39m\u001b[38;5;124m'\u001b[39m))\n\u001b[1;32m---> 27\u001b[0m index \u001b[38;5;241m=\u001b[39m \u001b[43mwalker\u001b[49m\u001b[43m[\u001b[49m\u001b[38;5;241;43m0\u001b[39;49m\u001b[43m]\u001b[49m[\u001b[38;5;241m1\u001b[39m]\n\u001b[0;32m     29\u001b[0m \u001b[38;5;28;01mfor\u001b[39;00m i \u001b[38;5;129;01min\u001b[39;00m \u001b[38;5;28mrange\u001b[39m(\u001b[38;5;241m1\u001b[39m,\u001b[38;5;28mlen\u001b[39m(walker)):\n\u001b[0;32m     30\u001b[0m     dataset_indexer[index[i\u001b[38;5;241m-\u001b[39m\u001b[38;5;241m1\u001b[39m]] \u001b[38;5;241m=\u001b[39m walker[i][\u001b[38;5;241m-\u001b[39m\u001b[38;5;241m1\u001b[39m]\n",
      "\u001b[1;31mIndexError\u001b[0m: list index out of range"
     ]
    }
   ],
   "source": [
    "dodgers_features = FeatureExtractor()"
   ]
  },
  {
   "cell_type": "code",
   "execution_count": null,
   "metadata": {},
   "outputs": [],
   "source": [
    "data_list = dodgers_features.get_data_list('Dodgers')"
   ]
  },
  {
   "cell_type": "code",
   "execution_count": null,
   "metadata": {},
   "outputs": [
    {
     "name": "stdout",
     "output_type": "stream",
     "text": [
      "*** Feature extraction started ***\n"
     ]
    },
    {
     "data": {
      "text/html": [
       "\n",
       "              <p>\n",
       "                  Progress: 100% Complete\n",
       "              <p/>\n",
       "              <progress\n",
       "                  value='60'\n",
       "                  max='60',\n",
       "                  style='width: 25%',\n",
       "              >\n",
       "                  60\n",
       "              </progress>\n",
       "\n",
       "    "
      ],
      "text/plain": [
       "<IPython.core.display.HTML object>"
      ]
     },
     "metadata": {},
     "output_type": "display_data"
    },
    {
     "name": "stdout",
     "output_type": "stream",
     "text": [
      "\n",
      "*** Feature extraction finished ***\n"
     ]
    }
   ],
   "source": [
    "df = dodgers_features.feature_extractor('Dodgers')"
   ]
  },
  {
   "cell_type": "code",
   "execution_count": null,
   "metadata": {},
   "outputs": [
    {
     "data": {
      "text/html": [
       "<div>\n",
       "<style scoped>\n",
       "    .dataframe tbody tr th:only-of-type {\n",
       "        vertical-align: middle;\n",
       "    }\n",
       "\n",
       "    .dataframe tbody tr th {\n",
       "        vertical-align: top;\n",
       "    }\n",
       "\n",
       "    .dataframe thead th {\n",
       "        text-align: right;\n",
       "    }\n",
       "</style>\n",
       "<table border=\"1\" class=\"dataframe\">\n",
       "  <thead>\n",
       "    <tr style=\"text-align: right;\">\n",
       "      <th></th>\n",
       "      <th>-1_Absolute energy</th>\n",
       "      <th>-1_Area under the curve</th>\n",
       "      <th>-1_Autocorrelation</th>\n",
       "      <th>-1_Average power</th>\n",
       "      <th>-1_Centroid</th>\n",
       "      <th>-1_ECDF Percentile Count_0</th>\n",
       "      <th>-1_ECDF Percentile Count_1</th>\n",
       "      <th>-1_ECDF Percentile_0</th>\n",
       "      <th>-1_ECDF Percentile_1</th>\n",
       "      <th>-1_ECDF_0</th>\n",
       "      <th>...</th>\n",
       "      <th>1_Wavelet variance_0</th>\n",
       "      <th>1_Wavelet variance_1</th>\n",
       "      <th>1_Wavelet variance_2</th>\n",
       "      <th>1_Wavelet variance_3</th>\n",
       "      <th>1_Wavelet variance_4</th>\n",
       "      <th>1_Wavelet variance_5</th>\n",
       "      <th>1_Wavelet variance_6</th>\n",
       "      <th>1_Wavelet variance_7</th>\n",
       "      <th>1_Wavelet variance_8</th>\n",
       "      <th>1_Zero crossing rate</th>\n",
       "    </tr>\n",
       "  </thead>\n",
       "  <tbody>\n",
       "    <tr>\n",
       "      <th>0</th>\n",
       "      <td>28958753.0</td>\n",
       "      <td>9962.17</td>\n",
       "      <td>28958753.0</td>\n",
       "      <td>57460.123418</td>\n",
       "      <td>254.63354</td>\n",
       "      <td>-1.0</td>\n",
       "      <td>-1.0</td>\n",
       "      <td>-1.0</td>\n",
       "      <td>-1.0</td>\n",
       "      <td>0.00002</td>\n",
       "      <td>...</td>\n",
       "      <td>0.003819</td>\n",
       "      <td>0.012123</td>\n",
       "      <td>0.02567</td>\n",
       "      <td>0.044454</td>\n",
       "      <td>0.068239</td>\n",
       "      <td>0.097642</td>\n",
       "      <td>0.134638</td>\n",
       "      <td>0.181972</td>\n",
       "      <td>0.241497</td>\n",
       "      <td>264.0</td>\n",
       "    </tr>\n",
       "  </tbody>\n",
       "</table>\n",
       "<p>1 rows × 778 columns</p>\n",
       "</div>"
      ],
      "text/plain": [
       "   -1_Absolute energy  -1_Area under the curve  -1_Autocorrelation  \\\n",
       "0          28958753.0                  9962.17          28958753.0   \n",
       "\n",
       "   -1_Average power  -1_Centroid  -1_ECDF Percentile Count_0  \\\n",
       "0      57460.123418    254.63354                        -1.0   \n",
       "\n",
       "   -1_ECDF Percentile Count_1  -1_ECDF Percentile_0  -1_ECDF Percentile_1  \\\n",
       "0                        -1.0                  -1.0                  -1.0   \n",
       "\n",
       "   -1_ECDF_0  ...  1_Wavelet variance_0  1_Wavelet variance_1  \\\n",
       "0    0.00002  ...              0.003819              0.012123   \n",
       "\n",
       "   1_Wavelet variance_2  1_Wavelet variance_3  1_Wavelet variance_4  \\\n",
       "0               0.02567              0.044454              0.068239   \n",
       "\n",
       "   1_Wavelet variance_5  1_Wavelet variance_6  1_Wavelet variance_7  \\\n",
       "0              0.097642              0.134638              0.181972   \n",
       "\n",
       "   1_Wavelet variance_8  1_Zero crossing rate  \n",
       "0              0.241497                 264.0  \n",
       "\n",
       "[1 rows x 778 columns]"
      ]
     },
     "execution_count": 20,
     "metadata": {},
     "output_type": "execute_result"
    }
   ],
   "source": [
    "df[0]"
   ]
  },
  {
   "cell_type": "code",
   "execution_count": null,
   "metadata": {},
   "outputs": [],
   "source": []
  }
 ],
 "metadata": {
  "kernelspec": {
   "display_name": "Python 3",
   "language": "python",
   "name": "python3"
  },
  "language_info": {
   "codemirror_mode": {
    "name": "ipython",
    "version": 3
   },
   "file_extension": ".py",
   "mimetype": "text/x-python",
   "name": "python",
   "nbconvert_exporter": "python",
   "pygments_lexer": "ipython3",
   "version": "3.9.0"
  }
 },
 "nbformat": 4,
 "nbformat_minor": 2
}
